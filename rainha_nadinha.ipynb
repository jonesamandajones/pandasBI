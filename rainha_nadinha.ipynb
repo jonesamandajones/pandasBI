{
 "cells": [
  {
   "attachments": {},
   "cell_type": "markdown",
   "metadata": {},
   "source": [
    "# Exercício de Pandas:\n",
    "---\n",
    "## Tratando arquivo csv com biblioteca Pandas via Power BI"
   ]
  },
  {
   "attachments": {},
   "cell_type": "markdown",
   "metadata": {},
   "source": [
    "### 1. Importação da biblioteca e leitura do arquivo de dados:"
   ]
  },
  {
   "cell_type": "code",
   "execution_count": 1,
   "metadata": {},
   "outputs": [
    {
     "name": "stdout",
     "output_type": "stream",
     "text": [
      "    ID                                           NOME QUALIDADE  \\\n",
      "0    1                      SIMONE DE BEAUVOIR           RAINHA   \n",
      "1    2                                   ADA LOVELACE    RAINHA   \n",
      "2    3                                  JUDITH BUTLER    RAINHA   \n",
      "3    4                                   ANGELA DAVIS    RAINHA   \n",
      "4    5  PAGU                                             RAINHA   \n",
      "5    6                               LUDWIG VON MISES   NADINHA   \n",
      "6    7                                    MARIE CURIE    RAINHA   \n",
      "7    8                                    FRIDA KAHLO    RAINHA   \n",
      "8    9     OLAVO DE CARVALHO                            NADINHA   \n",
      "9   10                              WINSTON CHURCHILL   NADINHA   \n",
      "10  11                                 PALETÓ CAMPARI   NADINHA   \n",
      "\n",
      "   DATA_NASCIMENTO  \n",
      "0       01-09-1908  \n",
      "1       12-10-1815  \n",
      "2       02-24-1956  \n",
      "3       01-26-1944  \n",
      "4       06-09-1910  \n",
      "5       09-29-1881  \n",
      "6       11-07-1867  \n",
      "7       07-06-1907  \n",
      "8       04-29-1947  \n",
      "9       11-30-1874  \n",
      "10      03-01-2015  \n"
     ]
    }
   ],
   "source": [
    "import pandas as pd\n",
    "df = pd.read_csv('RAINHAS.csv')\n",
    "print(df)"
   ]
  },
  {
   "attachments": {},
   "cell_type": "markdown",
   "metadata": {},
   "source": [
    "### 2. Limpando espaços em branco desnecessários:"
   ]
  },
  {
   "cell_type": "code",
   "execution_count": null,
   "metadata": {},
   "outputs": [],
   "source": [
    "df['NOME'] = df['NOME'].str.strip()\n",
    "\n",
    "print(df)"
   ]
  },
  {
   "attachments": {},
   "cell_type": "markdown",
   "metadata": {},
   "source": [
    "### 3. Transformando dados em texto da coluna para numérico:"
   ]
  },
  {
   "cell_type": "code",
   "execution_count": null,
   "metadata": {},
   "outputs": [],
   "source": [
    "df['ID'] = pd.to_numeric(df['ID'])\n",
    "\n",
    "print(df['ID'])"
   ]
  },
  {
   "attachments": {},
   "cell_type": "markdown",
   "metadata": {},
   "source": [
    "### 4. Transformando dados em texto da coluna para data:"
   ]
  },
  {
   "cell_type": "code",
   "execution_count": 3,
   "metadata": {},
   "outputs": [
    {
     "name": "stdout",
     "output_type": "stream",
     "text": [
      "0    1908-01-09\n",
      "1    1815-12-10\n",
      "2    1956-02-24\n",
      "3    1944-01-26\n",
      "4    1910-06-09\n",
      "5    1881-09-29\n",
      "6    1867-11-07\n",
      "7    1907-07-06\n",
      "8    1947-04-29\n",
      "9    1874-11-30\n",
      "10   2015-03-01\n",
      "Name: DATA_NASCIMENTO, dtype: datetime64[ns]\n",
      "0                         SIMONE DE BEAUVOIR       \n",
      "1                                      ADA LOVELACE\n",
      "2                                     JUDITH BUTLER\n",
      "3                                      ANGELA DAVIS\n",
      "4     PAGU                                         \n",
      "5                                  LUDWIG VON MISES\n",
      "6                                       MARIE CURIE\n",
      "7                                       FRIDA KAHLO\n",
      "8        OLAVO DE CARVALHO                         \n",
      "9                                 WINSTON CHURCHILL\n",
      "10                                   PALETÓ CAMPARI\n",
      "Name: NOME, dtype: object\n"
     ]
    }
   ],
   "source": [
    "df['DATA_NASCIMENTO'] = pd.to_datetime(df['DATA_NASCIMENTO'])\n",
    "\n",
    "print(df['DATA_NASCIMENTO'])"
   ]
  },
  {
   "attachments": {},
   "cell_type": "markdown",
   "metadata": {},
   "source": [
    "### 5. Executar o código no Script Python do Power BI:"
   ]
  },
  {
   "cell_type": "code",
   "execution_count": null,
   "metadata": {},
   "outputs": [],
   "source": [
    "import pandas as pd\n",
    "\n",
    "df = pd.read_csv('RAINHAS.csv')\n",
    "\n",
    "df['NOME'] = df['NOME'].str.strip()\n",
    "\n",
    "df['ID'] = pd.to_numeric(df['ID'])\n",
    "\n",
    "df['DATA_NASCIMENTO'] = pd.to_datetime(df['DATA_NASCIMENTO'])\n"
   ]
  },
  {
   "attachments": {},
   "cell_type": "markdown",
   "metadata": {},
   "source": [
    "#### Imagem do código inserido no script python do Power BI:\n",
    "![Imagem do código inserido no script python do Power BI](BI1.png)\n",
    "---\n",
    "#### Imagem da tabela no Power Query:\n",
    "![Imagem da tabela no Power Query](BI2.png)\n",
    "---\n",
    "#### Imagem final da tabela no Power BI\n",
    "![Imagem final da tabela no Power BI](BI3.png)\n",
    "---"
   ]
  }
 ],
 "metadata": {
  "kernelspec": {
   "display_name": "venv",
   "language": "python",
   "name": "python3"
  },
  "language_info": {
   "codemirror_mode": {
    "name": "ipython",
    "version": 3
   },
   "file_extension": ".py",
   "mimetype": "text/x-python",
   "name": "python",
   "nbconvert_exporter": "python",
   "pygments_lexer": "ipython3",
   "version": "3.8.10"
  },
  "orig_nbformat": 4,
  "vscode": {
   "interpreter": {
    "hash": "96f0bb7cbe5caf72659549f1af900e5e59ebcffa1f34936d1adc76721c5cfa41"
   }
  }
 },
 "nbformat": 4,
 "nbformat_minor": 2
}
